{
 "cells": [
  {
   "cell_type": "markdown",
   "id": "f2ab1aef",
   "metadata": {},
   "source": [
    "Create a NumPy ndarray Object"
   ]
  },
  {
   "cell_type": "code",
   "execution_count": 14,
   "id": "47c33cb8",
   "metadata": {},
   "outputs": [
    {
     "name": "stdout",
     "output_type": "stream",
     "text": [
      "[1 2 3 4 5]\n",
      "<class 'numpy.ndarray'>\n"
     ]
    }
   ],
   "source": [
    "import numpy as np\n",
    "arr = np.array([1, 2, 3, 4, 5])\n",
    "print(arr)\n",
    "print(type(arr))"
   ]
  },
  {
   "cell_type": "markdown",
   "id": "5e80dcb2",
   "metadata": {},
   "source": [
    "Use a tuple to create a NumPy array"
   ]
  },
  {
   "cell_type": "code",
   "execution_count": 15,
   "id": "5ef1ce19",
   "metadata": {},
   "outputs": [
    {
     "name": "stdout",
     "output_type": "stream",
     "text": [
      "[1 2 4 6 8 9]\n",
      "<class 'numpy.ndarray'>\n"
     ]
    }
   ],
   "source": [
    "import numpy as np\n",
    "arr = np.array((1, 2, 4, 6, 8, 9))\n",
    "print(arr)\n",
    "print(type(arr))"
   ]
  },
  {
   "cell_type": "markdown",
   "id": "693664c7",
   "metadata": {},
   "source": [
    "Dimensions in Arrays----->A dimension in arrays is one level of array depth (nested arrays)."
   ]
  },
  {
   "cell_type": "markdown",
   "id": "5afe0e75",
   "metadata": {},
   "source": [
    "0D Array"
   ]
  },
  {
   "cell_type": "code",
   "execution_count": 16,
   "id": "e1bc1083",
   "metadata": {},
   "outputs": [
    {
     "name": "stdout",
     "output_type": "stream",
     "text": [
      "100\n"
     ]
    }
   ],
   "source": [
    "import numpy as np\n",
    "arr = np.array(100)\n",
    "print(arr)"
   ]
  },
  {
   "cell_type": "markdown",
   "id": "6bdc44f3",
   "metadata": {},
   "source": [
    "1D Array"
   ]
  },
  {
   "cell_type": "code",
   "execution_count": 17,
   "id": "a4fb20eb",
   "metadata": {},
   "outputs": [
    {
     "name": "stdout",
     "output_type": "stream",
     "text": [
      "[ 1  3  5  7  9 11 13]\n"
     ]
    }
   ],
   "source": [
    "import numpy as np\n",
    "arr = np.array((1, 3, 5, 7, 9, 11, 13))\n",
    "print(arr)"
   ]
  },
  {
   "cell_type": "markdown",
   "id": "ae79c995",
   "metadata": {},
   "source": [
    "2D Array"
   ]
  },
  {
   "cell_type": "code",
   "execution_count": 18,
   "id": "3854b7eb",
   "metadata": {},
   "outputs": [
    {
     "name": "stdout",
     "output_type": "stream",
     "text": [
      "[[1 2 3]\n",
      " [2 4 6]]\n"
     ]
    }
   ],
   "source": [
    "import numpy as np\n",
    "arr = np.array([[1, 2, 3], [2, 4, 6]])\n",
    "print(arr)"
   ]
  },
  {
   "cell_type": "markdown",
   "id": "32af94a0",
   "metadata": {},
   "source": [
    "3D Array"
   ]
  },
  {
   "cell_type": "code",
   "execution_count": 19,
   "id": "837a67ec",
   "metadata": {},
   "outputs": [
    {
     "name": "stdout",
     "output_type": "stream",
     "text": [
      "[[[ 1  3  5]\n",
      "  [ 7  9 11]]\n",
      "\n",
      " [[ 2  4  6]\n",
      "  [ 8 10 12]]]\n"
     ]
    }
   ],
   "source": [
    "import numpy as np\n",
    "arr = np.array([[[1,3,5], [7, 9, 11]], [[2, 4, 6], [8, 10, 12]]])\n",
    "print(arr)"
   ]
  },
  {
   "cell_type": "markdown",
   "id": "0c1f7502",
   "metadata": {},
   "source": [
    "Check Number of Dimensions"
   ]
  },
  {
   "cell_type": "code",
   "execution_count": 20,
   "id": "2bee1ee0",
   "metadata": {},
   "outputs": [
    {
     "name": "stdout",
     "output_type": "stream",
     "text": [
      "0\n",
      "1\n",
      "2\n",
      "3\n"
     ]
    }
   ],
   "source": [
    "import numpy as np\n",
    "\n",
    "a = np.array(42)\n",
    "b = np.array([1, 2, 3, 4, 5])\n",
    "c = np.array([[1, 2, 3], [4, 5, 6]])\n",
    "d = np.array([[[1, 2, 3], [4, 5, 6]], [[1, 2, 3], [4, 5, 6]]])\n",
    "\n",
    "print(a.ndim)\n",
    "print(b.ndim)\n",
    "print(c.ndim)\n",
    "print(d.ndim)"
   ]
  },
  {
   "cell_type": "markdown",
   "id": "02d868d3",
   "metadata": {},
   "source": [
    "Higher Dimensional Arrays"
   ]
  },
  {
   "cell_type": "code",
   "execution_count": 21,
   "id": "d8e383d8",
   "metadata": {},
   "outputs": [
    {
     "name": "stdout",
     "output_type": "stream",
     "text": [
      "[[[[[1 2 3 4]]]]]\n",
      "Number of dimensions: 5\n"
     ]
    }
   ],
   "source": [
    "import numpy as np\n",
    "\n",
    "arr = np.array([1, 2, 3, 4], ndmin=5)\n",
    "print(arr)\n",
    "print(\"Number of dimensions:\", arr.ndim)"
   ]
  }
 ],
 "metadata": {
  "kernelspec": {
   "display_name": "Python 3",
   "language": "python",
   "name": "python3"
  },
  "language_info": {
   "codemirror_mode": {
    "name": "ipython",
    "version": 3
   },
   "file_extension": ".py",
   "mimetype": "text/x-python",
   "name": "python",
   "nbconvert_exporter": "python",
   "pygments_lexer": "ipython3",
   "version": "3.13.2"
  }
 },
 "nbformat": 4,
 "nbformat_minor": 5
}
