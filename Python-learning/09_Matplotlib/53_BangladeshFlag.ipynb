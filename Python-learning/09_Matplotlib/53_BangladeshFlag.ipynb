{
 "cells": [
  {
   "cell_type": "markdown",
   "id": "4be42dc6",
   "metadata": {},
   "source": [
    "Creating Bangladeshi flag using matplotlib"
   ]
  },
  {
   "cell_type": "code",
   "execution_count": 10,
   "id": "58a41318",
   "metadata": {},
   "outputs": [
    {
     "data": {
      "image/png": "[encoded data removed]",
      "text/plain": [
       "<Figure size 640x480 with 1 Axes>"
      ]
     },
     "metadata": {},
     "output_type": "display_data"
    }
   ],
   "source": [
    "import matplotlib.pyplot as plt\n",
    "import matplotlib.patches as patches\n",
    "\n",
    "# Create a figure and axis\n",
    "fig, ax = plt.subplots()\n",
    "\n",
    "# Add the green background (rectangle)\n",
    "ax.add_patch(patches.Rectangle((0, 0), 1.8, 1, linewidth=0, edgecolor='green', facecolor='green'))\n",
    "\n",
    "# Add the red circle (slightly off-center to the left)\n",
    "circle = plt.Circle((0.45, 0.5), 0.3, color='red')  # (0.45, 0.5) places it off-center slightly to the left\n",
    "ax.add_patch(circle)\n",
    "\n",
    "# Set the aspect of the plot to be equal, so the flag doesn't get distorted\n",
    "ax.set_aspect(1)\n",
    "\n",
    "# Remove axis ticks and labels\n",
    "ax.set_xticks([])\n",
    "ax.set_yticks([])\n",
    "\n",
    "# Set the aspect ratio and limits of the plot\n",
    "ax.set_xlim(0, 1.8)\n",
    "ax.set_ylim(0, 1)\n",
    "\n",
    "# Display the flag\n",
    "plt.show()\n"
   ]
  }
 ],
 "metadata": {
  "kernelspec": {
   "display_name": ".venv",
   "language": "python",
   "name": "python3"
  },
  "language_info": {
   "codemirror_mode": {
    "name": "ipython",
    "version": 3
   },
   "file_extension": ".py",
   "mimetype": "text/x-python",
   "name": "python",
   "nbconvert_exporter": "python",
   "pygments_lexer": "ipython3",
   "version": "3.13.2"
  }
 },
 "nbformat": 4,
 "nbformat_minor": 5
}
