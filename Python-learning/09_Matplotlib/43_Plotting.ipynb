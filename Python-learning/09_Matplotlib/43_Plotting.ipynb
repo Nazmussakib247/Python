{
 "cells": [
  {
   "cell_type": "markdown",
   "id": "794e392c",
   "metadata": {},
   "source": [
    "Plotting x and y points\n"
   ]
  },
  {
   "cell_type": "markdown",
   "id": "407018f5",
   "metadata": {},
   "source": [
    "Draw a line in a diagram from position (1, 3) to position (8, 10)"
   ]
  },
  {
   "cell_type": "code",
   "execution_count": null,
   "id": "c5a06d39",
   "metadata": {},
   "outputs": [],
   "source": [
    "%matplotlib inline\n",
    "import matplotlib.pyplot as plt\n",
    "import numpy as np\n",
    "\n",
    "x = np.array([1, 8])\n",
    "y = np.array([3, 10])\n",
    "\n",
    "plt.plot(x, y)\n",
    "plt.show()"
   ]
  }
 ],
 "metadata": {
  "kernelspec": {
   "display_name": ".venv",
   "language": "python",
   "name": "python3"
  },
  "language_info": {
   "codemirror_mode": {
    "name": "ipython",
    "version": 3
   },
   "file_extension": ".py",
   "mimetype": "text/x-python",
   "name": "python",
   "nbconvert_exporter": "python",
   "pygments_lexer": "ipython3",
   "version": "3.13.2"
  }
 },
 "nbformat": 4,
 "nbformat_minor": 5
}
