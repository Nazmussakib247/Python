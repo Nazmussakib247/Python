{
 "cells": [
  {
   "cell_type": "markdown",
   "id": "ece35d4a",
   "metadata": {},
   "source": [
    "Installation of NumPy"
   ]
  },
  {
   "cell_type": "code",
   "execution_count": null,
   "id": "ef7bf504",
   "metadata": {},
   "outputs": [],
   "source": [
    "pip install numpy"
   ]
  },
  {
   "cell_type": "markdown",
   "id": "7b70fcfe",
   "metadata": {},
   "source": [
    "Import NumPy in application by adding keywor import"
   ]
  },
  {
   "cell_type": "code",
   "execution_count": 3,
   "id": "3db2dede",
   "metadata": {},
   "outputs": [],
   "source": [
    "import numpy"
   ]
  },
  {
   "cell_type": "markdown",
   "id": "e1823eb0",
   "metadata": {},
   "source": [
    "Import As Alias"
   ]
  },
  {
   "cell_type": "code",
   "execution_count": 2,
   "id": "7627141d",
   "metadata": {},
   "outputs": [
    {
     "name": "stdout",
     "output_type": "stream",
     "text": [
      "[1 3 5 7]\n"
     ]
    }
   ],
   "source": [
    "import numpy as np\n",
    "array = np.array([1, 3, 5, 7])\n",
    "print(array)"
   ]
  },
  {
   "cell_type": "markdown",
   "id": "8c332030",
   "metadata": {},
   "source": [
    "Checking NumPy Version"
   ]
  },
  {
   "cell_type": "code",
   "execution_count": 1,
   "id": "7d391f7b",
   "metadata": {},
   "outputs": [
    {
     "name": "stdout",
     "output_type": "stream",
     "text": [
      "2.2.3\n"
     ]
    }
   ],
   "source": [
    "import numpy as np\n",
    "print(np.__version__)"
   ]
  }
 ],
 "metadata": {
  "kernelspec": {
   "display_name": "Python 3",
   "language": "python",
   "name": "python3"
  },
  "language_info": {
   "codemirror_mode": {
    "name": "ipython",
    "version": 3
   },
   "file_extension": ".py",
   "mimetype": "text/x-python",
   "name": "python",
   "nbconvert_exporter": "python",
   "pygments_lexer": "ipython3",
   "version": "3.13.2"
  }
 },
 "nbformat": 4,
 "nbformat_minor": 5
}
